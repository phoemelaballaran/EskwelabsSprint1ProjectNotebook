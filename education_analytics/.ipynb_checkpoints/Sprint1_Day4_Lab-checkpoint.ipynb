{
 "cells": [
  {
   "cell_type": "markdown",
   "metadata": {},
   "source": [
    "# Sprint 1 - Lab Exercise - 20210114\n",
    "\n",
    "**Team Pat Members:** Hurly | Joseph | Mikee | Phoemela\n",
    "\n",
    "-------------------\n",
    "\n",
    "### Instructions\n",
    "\n",
    "**Setup**\n",
    "- Download the files from the compressed folder: [education_analytics.zip](https://courses.eskwelabs.com/courses/18/files/3662/download?wrap=1)\n",
    "- You will be doing the rest of the exercise from scratch. \n",
    "\n",
    "**Performing EDA**\n",
    "- Read and check all csv, is it possible to merge all csv into one?\n",
    "- Combine all mergeable csv into one dataframe.\n",
    "- Study the consolidated dataframe. What are you most interested in finding out?\n",
    "- Discuss among your group what are the conceptualization questions you want to answer.\n",
    "- Identify if this can be operationalized using the data provided.\n",
    "- Provide at least 3 questions for your group to answer.\n",
    "- Use what you've learned in the previous days to answer your questions. \n",
    "\n",
    "**Presenting Results**\n",
    "- Prepare one powerpoint or google slides presentation for your group\n",
    "- The presentation must contain:\n",
    "    (a) Background / Context: What problem or questions are you trying to solve?\n",
    "    (b) Data Information: What is your source of data? Which information from the data did you use? How reliable is the data?\n",
    "    (c) Methodology: What are the tools you used? What is your process flow to arrive at the solution?\n",
    "    (d) Results: What did you find out?\n",
    "    (e) Conclusion and Recommendations: Based on what you discovered, what can be done?\n",
    "- You will be given only 5 minutes to present your powerpoint. Ensure that your presentation is concise but informative.\n",
    "\n",
    "\n",
    "---------------\n",
    "\n",
    "### Tasks\n",
    "\n",
    "**7:35 to 8:00 PM** - All will check the different datasets provided and merge it into one usable dataframe that everyone in the team can use for the EDA. Remember to check shape, columns, and other info provided for each dataset. Also check for missing and duplicate values. \n",
    "\n",
    "**8:00 to 8:10 PM** - After knowing available information, what do you want to know from the data? Think of 4 questions to answer (1 question per fellow). \n",
    "\n",
    "**8:10 to 8:30 PM** - Each fellow will wrangle final dataframe to answer their own question and come up with a graph visualizing the result. Choose a visual that best represents your result.\n",
    "\n",
    "**8:30 PM to 8:55 PM** - Create presentation slides. Each fellow will work on at least 2 slides. One for the result of their EDA + another part of presentation (background, data information, methodology, conclusion & recommendations)"
   ]
  },
  {
   "cell_type": "markdown",
   "metadata": {},
   "source": [
    "----------------------\n",
    "\n",
    "## Import libraries"
   ]
  },
  {
   "cell_type": "code",
   "execution_count": 1,
   "metadata": {},
   "outputs": [],
   "source": [
    "import pandas as pd\n",
    "import numpy as np\n",
    "import matplotlib.pyplot as plt\n",
    "import seaborn as sns\n",
    "\n",
    "import geopandas as gpd\n",
    "import folium\n",
    "from folium.plugins import MarkerCluster"
   ]
  },
  {
   "cell_type": "markdown",
   "metadata": {},
   "source": [
    "----------------------\n",
    "\n",
    "\n",
    "## Data Preparation"
   ]
  },
  {
   "cell_type": "code",
   "execution_count": 4,
   "metadata": {},
   "outputs": [
    {
     "name": "stdout",
     "output_type": "stream",
     "text": [
      "(46603, 23)\n",
      "Index(['school.id', 'school.name', 'school.region', 'school.region.name',\n",
      "       'school.province', 'school.cityhall', 'school.division',\n",
      "       'school.citymuni', 'school.district', 'school.legdistrict',\n",
      "       'school.type', 'school.abbrev', 'school.previousname',\n",
      "       'school.mother.id', 'school.address', 'school.established',\n",
      "       'school.classification', 'school.classification2',\n",
      "       'school.curricularclass', 'school.organization', 'school.cityincome',\n",
      "       'school.cityclass', 'school.urban'],\n",
      "      dtype='object')\n",
      "/Users/macbook/Downloads/education_analytics/Enrollment Master Data_2015_S.csv\n",
      "(7977, 15)\n",
      "Index(['School ID', 'Grade 7 Male', 'Grade 7 Female', 'Grade 8 Male',\n",
      "       'Grade 8 Female', 'Grade 9 Male', 'Grade 9 Female', 'Grade 10 Male',\n",
      "       'Grade 10 Female', 'Grade 11 Male', 'Grade 11 Female', 'Grade 12 Male',\n",
      "       'Grade 12 Female', 'SPED NG Male', 'SPED NG Female'],\n",
      "      dtype='object')\n",
      "/Users/macbook/Downloads/education_analytics/Enrollment Master Data_2015_E.csv\n",
      "(38649, 17)\n",
      "Index(['School ID', 'Kinder Male', 'Kinder Female', 'Grade 1 Male',\n",
      "       'Grade 1 Female', 'Grade 2 Male', 'Grade 2 Female', 'Grade 3 Male',\n",
      "       'Grade 3 Female', 'Grade 4 Male', 'Grade 4 Female', 'Grade 5 Male',\n",
      "       'Grade 5 Female', 'Grade 6 Male', 'Grade 6 Female', 'SPED NG Male',\n",
      "       'SPED NG Female'],\n",
      "      dtype='object')\n",
      "/Users/macbook/Downloads/education_analytics/Schools Location Data.csv\n",
      "(46624, 12)\n",
      "Index(['School ID', 'School Name', 'Region', 'Province', 'Municipality',\n",
      "       'Division', 'District', 'Offering', 'Name of Principal', 'Enrolment',\n",
      "       'Latitude', 'Longitude'],\n",
      "      dtype='object')\n",
      "/Users/macbook/Downloads/education_analytics/Teachers data.csv\n",
      "(45040, 5)\n",
      "Index(['school.id', 'teachers.instructor', 'teachers.mobile',\n",
      "       'teachers.regular', 'teachers.sped'],\n",
      "      dtype='object')\n",
      "/Users/macbook/Downloads/education_analytics/Rooms data.csv\n",
      "(46412, 5)\n",
      "Index(['School ID', 'rooms.standard.academic', 'rooms.standard.unused',\n",
      "       'rooms.nonstandard.academic', 'rooms.nonstandard.unused'],\n",
      "      dtype='object')\n",
      "/Users/macbook/Downloads/education_analytics/MOOE data.csv\n",
      "(44028, 5)\n",
      "Index(['school.id', 'school.name', 'school.enrollment', 'school.offering',\n",
      "       ' school.mooe '],\n",
      "      dtype='object')\n",
      "(46603, 76)\n",
      "Index(['school.id', 'school.name_x', 'school.region', 'school.region.name',\n",
      "       'school.province', 'school.cityhall', 'school.division',\n",
      "       'school.citymuni', 'school.district', 'school.legdistrict',\n",
      "       'school.type', 'school.abbrev', 'school.previousname',\n",
      "       'school.mother.id', 'school.address', 'school.established',\n",
      "       'school.classification', 'school.classification2',\n",
      "       'school.curricularclass', 'school.organization', 'school.cityincome',\n",
      "       'school.cityclass', 'school.urban', 'Grade 7 Male', 'Grade 7 Female',\n",
      "       'Grade 8 Male', 'Grade 8 Female', 'Grade 9 Male', 'Grade 9 Female',\n",
      "       'Grade 10 Male', 'Grade 10 Female', 'Grade 11 Male', 'Grade 11 Female',\n",
      "       'Grade 12 Male', 'Grade 12 Female', 'SPED NG Male_x',\n",
      "       'SPED NG Female_x', 'Kinder Male', 'Kinder Female', 'Grade 1 Male',\n",
      "       'Grade 1 Female', 'Grade 2 Male', 'Grade 2 Female', 'Grade 3 Male',\n",
      "       'Grade 3 Female', 'Grade 4 Male', 'Grade 4 Female', 'Grade 5 Male',\n",
      "       'Grade 5 Female', 'Grade 6 Male', 'Grade 6 Female', 'SPED NG Male_y',\n",
      "       'SPED NG Female_y', 'School Name', 'Region', 'Province', 'Municipality',\n",
      "       'Division', 'District', 'Offering', 'Name of Principal', 'Enrolment',\n",
      "       'Latitude', 'Longitude', 'teachers.instructor', 'teachers.mobile',\n",
      "       'teachers.regular', 'teachers.sped', 'rooms.standard.academic',\n",
      "       'rooms.standard.unused', 'rooms.nonstandard.academic',\n",
      "       'rooms.nonstandard.unused', 'school.name_y', 'school.enrollment',\n",
      "       'school.offering', ' school.mooe '],\n",
      "      dtype='object')\n",
      "<class 'pandas.core.frame.DataFrame'>\n",
      "Int64Index: 46603 entries, 0 to 46602\n",
      "Data columns (total 76 columns):\n",
      " #   Column                      Non-Null Count  Dtype  \n",
      "---  ------                      --------------  -----  \n",
      " 0   school.id                   46603 non-null  int64  \n",
      " 1   school.name_x               46603 non-null  object \n",
      " 2   school.region               46603 non-null  object \n",
      " 3   school.region.name          46603 non-null  object \n",
      " 4   school.province             46603 non-null  object \n",
      " 5   school.cityhall             46602 non-null  object \n",
      " 6   school.division             46603 non-null  object \n",
      " 7   school.citymuni             46603 non-null  object \n",
      " 8   school.district             46603 non-null  object \n",
      " 9   school.legdistrict          46603 non-null  object \n",
      " 10  school.type                 46603 non-null  object \n",
      " 11  school.abbrev               18167 non-null  object \n",
      " 12  school.previousname         42221 non-null  object \n",
      " 13  school.mother.id            46596 non-null  float64\n",
      " 14  school.address              44621 non-null  object \n",
      " 15  school.established          46594 non-null  object \n",
      " 16  school.classification       46603 non-null  object \n",
      " 17  school.classification2      46603 non-null  object \n",
      " 18  school.curricularclass      46603 non-null  object \n",
      " 19  school.organization         46603 non-null  object \n",
      " 20  school.cityincome           45627 non-null  object \n",
      " 21  school.cityclass            8213 non-null   object \n",
      " 22  school.urban                46600 non-null  object \n",
      " 23  Grade 7 Male                7911 non-null   object \n",
      " 24  Grade 7 Female              7911 non-null   object \n",
      " 25  Grade 8 Male                7911 non-null   object \n",
      " 26  Grade 8 Female              7911 non-null   object \n",
      " 27  Grade 9 Male                7911 non-null   object \n",
      " 28  Grade 9 Female              7911 non-null   object \n",
      " 29  Grade 10 Male               7911 non-null   object \n",
      " 30  Grade 10 Female             7911 non-null   object \n",
      " 31  Grade 11 Male               7911 non-null   float64\n",
      " 32  Grade 11 Female             7911 non-null   float64\n",
      " 33  Grade 12 Male               7911 non-null   float64\n",
      " 34  Grade 12 Female             7911 non-null   float64\n",
      " 35  SPED NG Male_x              7911 non-null   float64\n",
      " 36  SPED NG Female_x            7911 non-null   float64\n",
      " 37  Kinder Male                 38618 non-null  float64\n",
      " 38  Kinder Female               38618 non-null  float64\n",
      " 39  Grade 1 Male                38618 non-null  float64\n",
      " 40  Grade 1 Female              38618 non-null  float64\n",
      " 41  Grade 2 Male                38618 non-null  float64\n",
      " 42  Grade 2 Female              38618 non-null  float64\n",
      " 43  Grade 3 Male                38618 non-null  float64\n",
      " 44  Grade 3 Female              38618 non-null  float64\n",
      " 45  Grade 4 Male                38618 non-null  float64\n",
      " 46  Grade 4 Female              38618 non-null  float64\n",
      " 47  Grade 5 Male                38618 non-null  float64\n",
      " 48  Grade 5 Female              38618 non-null  float64\n",
      " 49  Grade 6 Male                38618 non-null  float64\n",
      " 50  Grade 6 Female              38618 non-null  float64\n",
      " 51  SPED NG Male_y              38618 non-null  float64\n",
      " 52  SPED NG Female_y            38618 non-null  float64\n",
      " 53  School Name                 46529 non-null  object \n",
      " 54  Region                      46529 non-null  object \n",
      " 55  Province                    46529 non-null  object \n",
      " 56  Municipality                46529 non-null  object \n",
      " 57  Division                    46529 non-null  object \n",
      " 58  District                    46529 non-null  object \n",
      " 59  Offering                    46529 non-null  object \n",
      " 60  Name of Principal           46518 non-null  object \n",
      " 61  Enrolment                   46529 non-null  float64\n",
      " 62  Latitude                    46529 non-null  float64\n",
      " 63  Longitude                   46529 non-null  float64\n",
      " 64  teachers.instructor         45040 non-null  float64\n",
      " 65  teachers.mobile             45040 non-null  float64\n",
      " 66  teachers.regular            45040 non-null  float64\n",
      " 67  teachers.sped               45040 non-null  float64\n",
      " 68  rooms.standard.academic     46357 non-null  float64\n",
      " 69  rooms.standard.unused       46357 non-null  float64\n",
      " 70  rooms.nonstandard.academic  46353 non-null  float64\n",
      " 71  rooms.nonstandard.unused    46353 non-null  float64\n",
      " 72  school.name_y               44025 non-null  object \n",
      " 73  school.enrollment           44025 non-null  float64\n",
      " 74  school.offering             44025 non-null  object \n",
      " 75   school.mooe                44025 non-null  object \n",
      "dtypes: float64(35), int64(1), object(40)\n",
      "memory usage: 27.4+ MB\n",
      "None\n"
     ]
    }
   ],
   "source": [
    "# Code for data checks + merging\n",
    "\n",
    "import glob\n",
    "\n",
    "masterlist = pd.read_csv(\"/Users/macbook/Downloads/education_analytics/Masterlist of Schools.csv\")\n",
    "print(masterlist.shape)\n",
    "print(masterlist.columns)\n",
    "\n",
    "df_all = masterlist.copy()\n",
    "\n",
    "files = glob.glob('/Users/macbook/Downloads/education_analytics/*.csv')\n",
    "\n",
    "for file in files:\n",
    "    if 'Masterlist' not in file:\n",
    "        try:\n",
    "            file_df = pd.read_csv(file, encoding = 'utf-8')\n",
    "        except:\n",
    "            file_df = pd.read_csv(file, encoding = 'latin-1')\n",
    "        print(file)\n",
    "        print(file_df.shape)\n",
    "        print(file_df.columns)\n",
    "        if 'School ID' in file_df.columns:\n",
    "            file_df = file_df.rename(columns = {'School ID':'school.id'})\n",
    "        df_all = df_all.merge(file_df, on = 'school.id', how = 'left')\n",
    "        \n",
    "print(df_all.shape)\n",
    "print(df_all.columns)\n",
    "print(df_all.info())"
   ]
  },
  {
   "cell_type": "code",
   "execution_count": 5,
   "metadata": {},
   "outputs": [],
   "source": [
    "df_all = df_all.drop(columns=['school.name_y','School Name', 'Region', 'Province',\n",
    "       'Municipality', 'Division', 'District', 'Offering'])\n",
    "\n",
    "df_all = pd.melt(df_all, id_vars = ['school.id', 'school.name_x', 'school.region', 'school.region.name',\n",
    "       'school.province', 'school.cityhall', 'school.division',\n",
    "       'school.citymuni', 'school.district', 'school.legdistrict',\n",
    "       'school.type', 'school.abbrev', 'school.previousname',\n",
    "       'school.mother.id', 'school.address', 'school.established',\n",
    "       'school.classification', 'school.classification2',\n",
    "       'school.curricularclass', 'school.organization', 'school.cityincome',\n",
    "       'school.cityclass', 'school.urban', 'school.enrollment',\n",
    "       'school.offering', ' school.mooe ', 'rooms.standard.academic',\n",
    "       'rooms.standard.unused', 'rooms.nonstandard.academic',\n",
    "       'rooms.nonstandard.unused', 'Name of Principal',\n",
    "       'Enrolment', 'Latitude', 'Longitude', 'teachers.instructor',\n",
    "       'teachers.mobile', 'teachers.regular', 'teachers.sped'])\n",
    "\n",
    "\n",
    "df_all['gender'] = ['Male' if 'Male|Male_x|Male_y' in x else 'Female' for x in df_all['variable']]\n",
    "df_all['year_level'] = df_all['variable'].str.replace('Male|Male_x|Male_y|Female|Female_x|Female_y','').apply(lambda x: x.strip())\n",
    "df_all = df_all.rename(columns = {'value': 'enroll_yr_gen'})"
   ]
  },
  {
   "cell_type": "code",
   "execution_count": 6,
   "metadata": {},
   "outputs": [
    {
     "data": {
      "text/plain": [
       "array(['Grade 7', 'Grade 8', 'Grade 9', 'Grade 10', 'Grade 11',\n",
       "       'Grade 12', 'SPED NG _x', 'Kinder', 'Grade 1', 'Grade 2',\n",
       "       'Grade 3', 'Grade 4', 'Grade 5', 'Grade 6', 'SPED NG _y'],\n",
       "      dtype=object)"
      ]
     },
     "execution_count": 6,
     "metadata": {},
     "output_type": "execute_result"
    }
   ],
   "source": [
    "df_all['year_level'].unique()"
   ]
  },
  {
   "cell_type": "code",
   "execution_count": 7,
   "metadata": {},
   "outputs": [
    {
     "data": {
      "text/plain": [
       "school.id                           0\n",
       "school.name_x                       0\n",
       "school.region                       0\n",
       "school.region.name                  0\n",
       "school.province                     0\n",
       "school.cityhall                    30\n",
       "school.division                     0\n",
       "school.citymuni                     0\n",
       "school.district                     0\n",
       "school.legdistrict                  0\n",
       "school.type                         0\n",
       "school.abbrev                  853080\n",
       "school.previousname            131460\n",
       "school.mother.id                  210\n",
       "school.address                  59460\n",
       "school.established                270\n",
       "school.classification               0\n",
       "school.classification2              0\n",
       "school.curricularclass              0\n",
       "school.organization                 0\n",
       "school.cityincome               29280\n",
       "school.cityclass              1151700\n",
       "school.urban                       90\n",
       "school.enrollment               77340\n",
       "school.offering                 77340\n",
       " school.mooe                    77340\n",
       "rooms.standard.academic          7380\n",
       "rooms.standard.unused            7380\n",
       "rooms.nonstandard.academic       7500\n",
       "rooms.nonstandard.unused         7500\n",
       "Name of Principal                2550\n",
       "Enrolment                        2220\n",
       "Latitude                         2220\n",
       "Longitude                        2220\n",
       "teachers.instructor             46890\n",
       "teachers.mobile                 46890\n",
       "teachers.regular                46890\n",
       "teachers.sped                   46890\n",
       "variable                            0\n",
       "enroll_yr_gen                  669448\n",
       "gender                              0\n",
       "year_level                          0\n",
       "dtype: int64"
      ]
     },
     "execution_count": 7,
     "metadata": {},
     "output_type": "execute_result"
    }
   ],
   "source": [
    "df_all.isna().sum()"
   ]
  },
  {
   "cell_type": "code",
   "execution_count": 8,
   "metadata": {},
   "outputs": [
    {
     "data": {
      "text/plain": [
       "school.id                          0\n",
       "school.name_x                      0\n",
       "school.region                      0\n",
       "school.region.name                 0\n",
       "school.province                    0\n",
       "school.cityhall                   14\n",
       "school.division                    0\n",
       "school.citymuni                    0\n",
       "school.district                    0\n",
       "school.legdistrict                 0\n",
       "school.type                        0\n",
       "school.abbrev                 446392\n",
       "school.previousname            67970\n",
       "school.mother.id                 110\n",
       "school.address                 31232\n",
       "school.established               132\n",
       "school.classification              0\n",
       "school.classification2             0\n",
       "school.curricularclass             0\n",
       "school.organization                0\n",
       "school.cityincome              15226\n",
       "school.cityclass              601118\n",
       "school.urban                      46\n",
       "school.enrollment              39358\n",
       "school.offering                39358\n",
       " school.mooe                   39358\n",
       "rooms.standard.academic         3566\n",
       "rooms.standard.unused           3566\n",
       "rooms.nonstandard.academic      3630\n",
       "rooms.nonstandard.unused        3630\n",
       "Name of Principal                174\n",
       "Enrolment                          0\n",
       "Latitude                           0\n",
       "Longitude                          0\n",
       "teachers.instructor            22632\n",
       "teachers.mobile                22632\n",
       "teachers.regular               22632\n",
       "teachers.sped                  22632\n",
       "variable                           0\n",
       "enroll_yr_gen                      0\n",
       "gender                             0\n",
       "year_level                         0\n",
       "dtype: int64"
      ]
     },
     "execution_count": 8,
     "metadata": {},
     "output_type": "execute_result"
    }
   ],
   "source": [
    "df_all = df_all[~df_all['enroll_yr_gen'].isna()]\n",
    "\n",
    "df_all.isna().sum()"
   ]
  },
  {
   "cell_type": "code",
   "execution_count": 9,
   "metadata": {
    "scrolled": true
   },
   "outputs": [
    {
     "name": "stdout",
     "output_type": "stream",
     "text": [
      "<class 'pandas.core.frame.DataFrame'>\n",
      "Int64Index: 728642 entries, 38689 to 1390175\n",
      "Data columns (total 42 columns):\n",
      " #   Column                      Non-Null Count   Dtype  \n",
      "---  ------                      --------------   -----  \n",
      " 0   school.id                   728642 non-null  int64  \n",
      " 1   school.name_x               728642 non-null  object \n",
      " 2   school.region               728642 non-null  object \n",
      " 3   school.region.name          728642 non-null  object \n",
      " 4   school.province             728642 non-null  object \n",
      " 5   school.cityhall             728628 non-null  object \n",
      " 6   school.division             728642 non-null  object \n",
      " 7   school.citymuni             728642 non-null  object \n",
      " 8   school.district             728642 non-null  object \n",
      " 9   school.legdistrict          728642 non-null  object \n",
      " 10  school.type                 728642 non-null  object \n",
      " 11  school.abbrev               282250 non-null  object \n",
      " 12  school.previousname         660672 non-null  object \n",
      " 13  school.mother.id            728532 non-null  float64\n",
      " 14  school.address              697410 non-null  object \n",
      " 15  school.established          728510 non-null  object \n",
      " 16  school.classification       728642 non-null  object \n",
      " 17  school.classification2      728642 non-null  object \n",
      " 18  school.curricularclass      728642 non-null  object \n",
      " 19  school.organization         728642 non-null  object \n",
      " 20  school.cityincome           713416 non-null  object \n",
      " 21  school.cityclass            127524 non-null  object \n",
      " 22  school.urban                728596 non-null  object \n",
      " 23  school.enrollment           689284 non-null  float64\n",
      " 24  school.offering             689284 non-null  object \n",
      " 25   school.mooe                689284 non-null  object \n",
      " 26  rooms.standard.academic     725076 non-null  float64\n",
      " 27  rooms.standard.unused       725076 non-null  float64\n",
      " 28  rooms.nonstandard.academic  725012 non-null  float64\n",
      " 29  rooms.nonstandard.unused    725012 non-null  float64\n",
      " 30  Name of Principal           728468 non-null  object \n",
      " 31  Enrolment                   728642 non-null  float64\n",
      " 32  Latitude                    728642 non-null  float64\n",
      " 33  Longitude                   728642 non-null  float64\n",
      " 34  teachers.instructor         706010 non-null  float64\n",
      " 35  teachers.mobile             706010 non-null  float64\n",
      " 36  teachers.regular            706010 non-null  float64\n",
      " 37  teachers.sped               706010 non-null  float64\n",
      " 38  variable                    728642 non-null  object \n",
      " 39  enroll_yr_gen               728642 non-null  object \n",
      " 40  gender                      728642 non-null  object \n",
      " 41  year_level                  728642 non-null  object \n",
      "dtypes: float64(13), int64(1), object(28)\n",
      "memory usage: 239.0+ MB\n"
     ]
    }
   ],
   "source": [
    "df_all.info()"
   ]
  },
  {
   "cell_type": "code",
   "execution_count": 10,
   "metadata": {
    "scrolled": true
   },
   "outputs": [
    {
     "data": {
      "text/plain": [
       "Index(['school.id', 'school.name_x', 'school.region', 'school.region.name',\n",
       "       'school.province', 'school.cityhall', 'school.division',\n",
       "       'school.citymuni', 'school.district', 'school.legdistrict',\n",
       "       'school.type', 'school.abbrev', 'school.previousname',\n",
       "       'school.mother.id', 'school.address', 'school.established',\n",
       "       'school.classification', 'school.classification2',\n",
       "       'school.curricularclass', 'school.organization', 'school.cityincome',\n",
       "       'school.cityclass', 'school.urban', 'school.enrollment',\n",
       "       'school.offering', ' school.mooe ', 'rooms.standard.academic',\n",
       "       'rooms.standard.unused', 'rooms.nonstandard.academic',\n",
       "       'rooms.nonstandard.unused', 'Name of Principal', 'Enrolment',\n",
       "       'Latitude', 'Longitude', 'teachers.instructor', 'teachers.mobile',\n",
       "       'teachers.regular', 'teachers.sped', 'variable', 'enroll_yr_gen',\n",
       "       'gender', 'year_level'],\n",
       "      dtype='object')"
      ]
     },
     "execution_count": 10,
     "metadata": {},
     "output_type": "execute_result"
    }
   ],
   "source": [
    "df_all.columns"
   ]
  },
  {
   "cell_type": "code",
   "execution_count": 13,
   "metadata": {
    "scrolled": false
   },
   "outputs": [
    {
     "data": {
      "text/plain": [
       "array(['Grade 7', 'Grade 8', 'Grade 9', 'Grade 10', 'Grade 11',\n",
       "       'Grade 12', 'SPED NG _x', 'Kinder', 'Grade 1', 'Grade 2',\n",
       "       'Grade 3', 'Grade 4', 'Grade 5', 'Grade 6', 'SPED NG _y'],\n",
       "      dtype=object)"
      ]
     },
     "execution_count": 13,
     "metadata": {},
     "output_type": "execute_result"
    }
   ],
   "source": [
    "df_all[\"year_level\"].unique()"
   ]
  },
  {
   "cell_type": "code",
   "execution_count": 14,
   "metadata": {
    "scrolled": true
   },
   "outputs": [
    {
     "data": {
      "text/plain": [
       "38689       229.0\n",
       "38690       136.0\n",
       "38691       960.0\n",
       "38692       118.0\n",
       "38693       132.0\n",
       "            ...  \n",
       "1390171     839.0\n",
       "1390172     796.0\n",
       "1390173    3199.0\n",
       "1390174    1619.0\n",
       "1390175    2772.0\n",
       "Name: school.enrollment, Length: 728642, dtype: float64"
      ]
     },
     "execution_count": 14,
     "metadata": {},
     "output_type": "execute_result"
    }
   ],
   "source": [
    "df_all[\"school.enrollment\"]"
   ]
  },
  {
   "cell_type": "code",
   "execution_count": 35,
   "metadata": {},
   "outputs": [],
   "source": [
    "df_all['enroll_yr_gen'] = df_all['enroll_yr_gen'].apply(lambda x: str(x).replace(',','')).astype('float64')"
   ]
  },
  {
   "cell_type": "markdown",
   "metadata": {},
   "source": [
    "----------------------\n",
    "\n",
    "\n",
    "## Exploratory Data Analysis"
   ]
  },
  {
   "cell_type": "code",
   "execution_count": 15,
   "metadata": {},
   "outputs": [
    {
     "data": {
      "text/plain": [
       "38689       229.0\n",
       "38690       136.0\n",
       "38691       960.0\n",
       "38692       118.0\n",
       "38693       132.0\n",
       "            ...  \n",
       "1390171     839.0\n",
       "1390172     796.0\n",
       "1390173    3199.0\n",
       "1390174    1619.0\n",
       "1390175    2772.0\n",
       "Name: Enrolment, Length: 728642, dtype: float64"
      ]
     },
     "execution_count": 15,
     "metadata": {},
     "output_type": "execute_result"
    }
   ],
   "source": [
    "df_all[\"Enrolment\"]"
   ]
  },
  {
   "cell_type": "markdown",
   "metadata": {},
   "source": [
    "### Question 1\n",
    "\n",
    "What’s the state of the inclusion of persons with disabilities in the philippine education system?"
   ]
  },
  {
   "cell_type": "code",
   "execution_count": 65,
   "metadata": {},
   "outputs": [
    {
     "data": {
      "text/html": [
       "<div>\n",
       "<style scoped>\n",
       "    .dataframe tbody tr th:only-of-type {\n",
       "        vertical-align: middle;\n",
       "    }\n",
       "\n",
       "    .dataframe tbody tr th {\n",
       "        vertical-align: top;\n",
       "    }\n",
       "\n",
       "    .dataframe thead th {\n",
       "        text-align: right;\n",
       "    }\n",
       "</style>\n",
       "<table border=\"1\" class=\"dataframe\">\n",
       "  <thead>\n",
       "    <tr style=\"text-align: right;\">\n",
       "      <th></th>\n",
       "      <th>Province</th>\n",
       "      <th>Level</th>\n",
       "      <th>Enrolled</th>\n",
       "    </tr>\n",
       "  </thead>\n",
       "  <tbody>\n",
       "    <tr>\n",
       "      <th>0</th>\n",
       "      <td>ABRA</td>\n",
       "      <td>Secondary</td>\n",
       "      <td>0.0</td>\n",
       "    </tr>\n",
       "    <tr>\n",
       "      <th>1</th>\n",
       "      <td>ISABELA</td>\n",
       "      <td>Secondary</td>\n",
       "      <td>0.0</td>\n",
       "    </tr>\n",
       "    <tr>\n",
       "      <th>2</th>\n",
       "      <td>ILOILO</td>\n",
       "      <td>Secondary</td>\n",
       "      <td>0.0</td>\n",
       "    </tr>\n",
       "    <tr>\n",
       "      <th>3</th>\n",
       "      <td>ILOCOS NORTE</td>\n",
       "      <td>Secondary</td>\n",
       "      <td>0.0</td>\n",
       "    </tr>\n",
       "    <tr>\n",
       "      <th>4</th>\n",
       "      <td>IFUGAO</td>\n",
       "      <td>Secondary</td>\n",
       "      <td>0.0</td>\n",
       "    </tr>\n",
       "    <tr>\n",
       "      <th>...</th>\n",
       "      <td>...</td>\n",
       "      <td>...</td>\n",
       "      <td>...</td>\n",
       "    </tr>\n",
       "    <tr>\n",
       "      <th>167</th>\n",
       "      <td>NCR THIRD DISTRICT</td>\n",
       "      <td>Primary</td>\n",
       "      <td>1484.0</td>\n",
       "    </tr>\n",
       "    <tr>\n",
       "      <th>168</th>\n",
       "      <td>CEBU</td>\n",
       "      <td>Primary</td>\n",
       "      <td>1616.0</td>\n",
       "    </tr>\n",
       "    <tr>\n",
       "      <th>169</th>\n",
       "      <td>MANILA, NCR, FIRST DISTRICT</td>\n",
       "      <td>Primary</td>\n",
       "      <td>1619.0</td>\n",
       "    </tr>\n",
       "    <tr>\n",
       "      <th>170</th>\n",
       "      <td>NCR FOURTH DISTRICT</td>\n",
       "      <td>Primary</td>\n",
       "      <td>1748.0</td>\n",
       "    </tr>\n",
       "    <tr>\n",
       "      <th>171</th>\n",
       "      <td>NCR SECOND DISTRICT</td>\n",
       "      <td>Primary</td>\n",
       "      <td>2558.0</td>\n",
       "    </tr>\n",
       "  </tbody>\n",
       "</table>\n",
       "<p>172 rows × 3 columns</p>\n",
       "</div>"
      ],
      "text/plain": [
       "                        Province      Level  Enrolled\n",
       "0                           ABRA  Secondary       0.0\n",
       "1                        ISABELA  Secondary       0.0\n",
       "2                         ILOILO  Secondary       0.0\n",
       "3                   ILOCOS NORTE  Secondary       0.0\n",
       "4                         IFUGAO  Secondary       0.0\n",
       "..                           ...        ...       ...\n",
       "167           NCR THIRD DISTRICT    Primary    1484.0\n",
       "168                         CEBU    Primary    1616.0\n",
       "169  MANILA, NCR, FIRST DISTRICT    Primary    1619.0\n",
       "170          NCR FOURTH DISTRICT    Primary    1748.0\n",
       "171          NCR SECOND DISTRICT    Primary    2558.0\n",
       "\n",
       "[172 rows x 3 columns]"
      ]
     },
     "execution_count": 65,
     "metadata": {},
     "output_type": "execute_result"
    }
   ],
   "source": [
    "region_sped = df_all[df_all[\"year_level\"].str.contains(\"SPED\")].groupby([\"school.province\",\"year_level\"])[\"enroll_yr_gen\"].sum().to_frame().reset_index()\n",
    "region_sped = region_sped.replace(\"SPED NG _x\", \"Secondary\")\n",
    "region_sped = region_sped.replace(\"SPED NG _y\", \"Primary\")\n",
    "\n",
    "region_sped = region_sped.rename(columns={'school.province': 'Province', 'year_level': 'Level', 'enroll_yr_gen':'Enrolled'})\n",
    "\n",
    "region_sped_secondary = region_sped[region_sped[\"Level\"]==\"Secondary\"].sort_values(by=\"Enrolled\", ascending=False)"
   ]
  },
  {
   "cell_type": "code",
   "execution_count": 149,
   "metadata": {
    "scrolled": true
   },
   "outputs": [
    {
     "data": {
      "text/html": [
       "<div>\n",
       "<style scoped>\n",
       "    .dataframe tbody tr th:only-of-type {\n",
       "        vertical-align: middle;\n",
       "    }\n",
       "\n",
       "    .dataframe tbody tr th {\n",
       "        vertical-align: top;\n",
       "    }\n",
       "\n",
       "    .dataframe thead th {\n",
       "        text-align: right;\n",
       "    }\n",
       "</style>\n",
       "<table border=\"1\" class=\"dataframe\">\n",
       "  <thead>\n",
       "    <tr style=\"text-align: right;\">\n",
       "      <th></th>\n",
       "      <th>Level</th>\n",
       "      <th>Enrolled</th>\n",
       "    </tr>\n",
       "    <tr>\n",
       "      <th>Province</th>\n",
       "      <th></th>\n",
       "      <th></th>\n",
       "    </tr>\n",
       "  </thead>\n",
       "  <tbody>\n",
       "    <tr>\n",
       "      <th>DAVAO DEL SUR</th>\n",
       "      <td>Secondary</td>\n",
       "      <td>285.0</td>\n",
       "    </tr>\n",
       "    <tr>\n",
       "      <th>NORTHERN SAMAR</th>\n",
       "      <td>Secondary</td>\n",
       "      <td>218.0</td>\n",
       "    </tr>\n",
       "    <tr>\n",
       "      <th>SORSOGON</th>\n",
       "      <td>Secondary</td>\n",
       "      <td>203.0</td>\n",
       "    </tr>\n",
       "    <tr>\n",
       "      <th>NCR THIRD DISTRICT</th>\n",
       "      <td>Secondary</td>\n",
       "      <td>183.0</td>\n",
       "    </tr>\n",
       "    <tr>\n",
       "      <th>PALAWAN</th>\n",
       "      <td>Secondary</td>\n",
       "      <td>162.0</td>\n",
       "    </tr>\n",
       "    <tr>\n",
       "      <th>BUKIDNON</th>\n",
       "      <td>Secondary</td>\n",
       "      <td>115.0</td>\n",
       "    </tr>\n",
       "    <tr>\n",
       "      <th>PANGASINAN</th>\n",
       "      <td>Secondary</td>\n",
       "      <td>70.0</td>\n",
       "    </tr>\n",
       "    <tr>\n",
       "      <th>LAGUNA</th>\n",
       "      <td>Secondary</td>\n",
       "      <td>69.0</td>\n",
       "    </tr>\n",
       "    <tr>\n",
       "      <th>NCR FOURTH DISTRICT</th>\n",
       "      <td>Secondary</td>\n",
       "      <td>64.0</td>\n",
       "    </tr>\n",
       "    <tr>\n",
       "      <th>RIZAL</th>\n",
       "      <td>Secondary</td>\n",
       "      <td>62.0</td>\n",
       "    </tr>\n",
       "  </tbody>\n",
       "</table>\n",
       "</div>"
      ],
      "text/plain": [
       "                         Level  Enrolled\n",
       "Province                                \n",
       "DAVAO DEL SUR        Secondary     285.0\n",
       "NORTHERN SAMAR       Secondary     218.0\n",
       "SORSOGON             Secondary     203.0\n",
       "NCR THIRD DISTRICT   Secondary     183.0\n",
       "PALAWAN              Secondary     162.0\n",
       "BUKIDNON             Secondary     115.0\n",
       "PANGASINAN           Secondary      70.0\n",
       "LAGUNA               Secondary      69.0\n",
       "NCR FOURTH DISTRICT  Secondary      64.0\n",
       "RIZAL                Secondary      62.0"
      ]
     },
     "execution_count": 149,
     "metadata": {},
     "output_type": "execute_result"
    }
   ],
   "source": [
    "region_sped_secondary = region_sped[region_sped[\"Level\"]==\"Secondary\"].sort_values(by=\"Enrolled\", ascending=False)\n",
    "\n",
    "top_sped_secondary = region_sped_secondary.head(10).set_index(\"Province\")\n",
    "top_sped_secondary"
   ]
  },
  {
   "cell_type": "code",
   "execution_count": 145,
   "metadata": {
    "scrolled": true
   },
   "outputs": [
    {
     "data": {
      "text/plain": [
       "<AxesSubplot:title={'center':'Number of Persons with Disabilities Enrolled per Region (Secondary)'}, xlabel='Enrolled', ylabel='Province'>"
      ]
     },
     "execution_count": 145,
     "metadata": {},
     "output_type": "execute_result"
    },
    {
     "data": {
      "image/png": "[encoded data removed]",
      "text/plain": [
       "<Figure size 360x288 with 1 Axes>"
      ]
     },
     "metadata": {},
     "output_type": "display_data"
    }
   ],
   "source": [
    "plt.figure(figsize=(5,4)) \n",
    "\n",
    "plt.title(\"Number of Persons with Disabilities Enrolled per Region (Secondary)\", fontsize=16, pad =20)\n",
    "plt.ylabel(\"Number of Enrollees\", fontsize=14)\n",
    "plt.xlabel(\"Year Level\", fontsize=14, )\n",
    "\n",
    "sns.set_style('white')\n",
    "sns.barplot(x=top_sped_secondary.Enrolled, y=top_sped_secondary.index, data=top_sped_secondary, hue=top_sped_secondary.Level)"
   ]
  },
  {
   "cell_type": "code",
   "execution_count": 146,
   "metadata": {},
   "outputs": [],
   "source": [
    "region_sped_primary= region_sped[region_sped[\"Level\"]==\"Primary\"].sort_values(by=\"Enrolled\", ascending=False)\n",
    "top_sped_primary = region_sped_primary.head(10)\n",
    "\n"
   ]
  },
  {
   "cell_type": "code",
   "execution_count": 151,
   "metadata": {},
   "outputs": [
    {
     "data": {
      "text/plain": [
       "<AxesSubplot:title={'center':'Number of Persons with Disabilities Enrolled per Region (Primary)'}, xlabel='Enrolled', ylabel='Province'>"
      ]
     },
     "execution_count": 151,
     "metadata": {},
     "output_type": "execute_result"
    },
    {
     "data": {
      "image/png": "[encoded data removed]",
      "text/plain": [
       "<Figure size 360x288 with 1 Axes>"
      ]
     },
     "metadata": {},
     "output_type": "display_data"
    }
   ],
   "source": [
    "plt.figure(figsize=(5,4)) \n",
    "\n",
    "plt.title(\"Number of Persons with Disabilities Enrolled per Region (Primary)\", fontsize=16, pad =20)\n",
    "plt.ylabel(\"Number of Enrollees\", fontsize=14)\n",
    "plt.xlabel(\"Year Level\", fontsize=14, )\n",
    "\n",
    "sns.set_style('white')\n",
    "sns.barplot(x=top_sped_primary.Enrolled, y=top_sped_primary.Province, data=top_sped_primary, hue=top_sped_primary.Level)"
   ]
  },
  {
   "cell_type": "code",
   "execution_count": 153,
   "metadata": {},
   "outputs": [
    {
     "data": {
      "text/plain": [
       "(51, 3)"
      ]
     },
     "execution_count": 153,
     "metadata": {},
     "output_type": "execute_result"
    }
   ],
   "source": [
    "#How many regions do not have secondary schools that cater to persons with disabilities? \n",
    "\n",
    "zero_sped_secondary = region_sped_secondary[region_sped_secondary[\"Enrolled\"]== region_sped_secondary[\"Enrolled\"].min()]\n",
    "zero_sped_secondary.shape\n",
    "\n"
   ]
  },
  {
   "cell_type": "code",
   "execution_count": 152,
   "metadata": {},
   "outputs": [
    {
     "data": {
      "text/plain": [
       "(4, 3)"
      ]
     },
     "execution_count": 152,
     "metadata": {},
     "output_type": "execute_result"
    }
   ],
   "source": [
    "#How many regions do not have primary schools that cater to persons with disabilities? \n",
    "\n",
    "zero_sped_primary = region_sped_primary[region_sped_primary[\"Enrolled\"]== region_sped_primary[\"Enrolled\"].min()]\n",
    "zero_sped_primary.shape"
   ]
  },
  {
   "cell_type": "markdown",
   "metadata": {},
   "source": [
    "### Question 2\n",
    "\n",
    "<*Type question 2 here.*>"
   ]
  },
  {
   "cell_type": "code",
   "execution_count": null,
   "metadata": {},
   "outputs": [],
   "source": [
    "# Codes for question 2"
   ]
  },
  {
   "cell_type": "markdown",
   "metadata": {},
   "source": [
    "### Question 3\n",
    "\n",
    "<*Type question 3 here.*>"
   ]
  },
  {
   "cell_type": "code",
   "execution_count": null,
   "metadata": {},
   "outputs": [],
   "source": [
    "# Codes for question 3"
   ]
  },
  {
   "cell_type": "markdown",
   "metadata": {},
   "source": [
    "### Question 4\n",
    "\n",
    "<*Type question 4 here*>"
   ]
  },
  {
   "cell_type": "code",
   "execution_count": null,
   "metadata": {},
   "outputs": [],
   "source": [
    "# Codes for question 4"
   ]
  }
 ],
 "metadata": {
  "kernelspec": {
   "display_name": "Python 3",
   "language": "python",
   "name": "python3"
  },
  "language_info": {
   "codemirror_mode": {
    "name": "ipython",
    "version": 3
   },
   "file_extension": ".py",
   "mimetype": "text/x-python",
   "name": "python",
   "nbconvert_exporter": "python",
   "pygments_lexer": "ipython3",
   "version": "3.8.5"
  }
 },
 "nbformat": 4,
 "nbformat_minor": 4
}
